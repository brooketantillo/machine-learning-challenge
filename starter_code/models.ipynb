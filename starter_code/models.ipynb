{
 "cells": [
  {
   "cell_type": "code",
   "execution_count": 1,
   "metadata": {},
   "outputs": [
    {
     "name": "stdout",
     "output_type": "stream",
     "text": [
      "Requirement already up-to-date: sklearn in c:\\users\\brooke\\anaconda3\\envs\\pythondata\\lib\\site-packages (0.0)\n",
      "Requirement already satisfied, skipping upgrade: scikit-learn in c:\\users\\brooke\\anaconda3\\envs\\pythondata\\lib\\site-packages (from sklearn) (0.22.1)\n",
      "Requirement already satisfied, skipping upgrade: numpy>=1.11.0 in c:\\users\\brooke\\anaconda3\\envs\\pythondata\\lib\\site-packages (from scikit-learn->sklearn) (1.18.1)\n",
      "Requirement already satisfied, skipping upgrade: scipy>=0.17.0 in c:\\users\\brooke\\anaconda3\\envs\\pythondata\\lib\\site-packages (from scikit-learn->sklearn) (1.4.1)\n",
      "Requirement already satisfied, skipping upgrade: joblib>=0.11 in c:\\users\\brooke\\anaconda3\\envs\\pythondata\\lib\\site-packages (from scikit-learn->sklearn) (0.14.1)\n"
     ]
    }
   ],
   "source": [
    "# Update sklearn to prevent version mismatches\n",
    "!pip install sklearn --upgrade"
   ]
  },
  {
   "cell_type": "code",
   "execution_count": 2,
   "metadata": {},
   "outputs": [
    {
     "name": "stdout",
     "output_type": "stream",
     "text": [
      "Requirement already satisfied: joblib in c:\\users\\brooke\\anaconda3\\envs\\pythondata\\lib\\site-packages (0.14.1)\n"
     ]
    }
   ],
   "source": [
    "# install joblib. This will be used to save your model. \n",
    "# Restart your kernel after installing \n",
    "!pip install joblib"
   ]
  },
  {
   "cell_type": "code",
   "execution_count": 29,
   "metadata": {},
   "outputs": [],
   "source": [
    "import pandas as pd\n",
    "import matplotlib.pyplot as plt\n",
    "import os\n",
    "import numpy as np\n",
    "\n",
    "from sklearn.model_selection import train_test_split\n",
    "from sklearn.preprocessing import MinMaxScaler\n",
    "from sklearn.linear_model import LogisticRegression\n",
    "from sklearn import tree\n",
    "from sklearn.ensemble import RandomForestClassifier\n",
    "from sklearn.neighbors import KNeighborsClassifier\n",
    "from sklearn.model_selection import GridSearchCV\n"
   ]
  },
  {
   "cell_type": "markdown",
   "metadata": {},
   "source": [
    "# Read the CSV and Perform Basic Data Cleaning"
   ]
  },
  {
   "cell_type": "code",
   "execution_count": 37,
   "metadata": {},
   "outputs": [
    {
     "data": {
      "text/html": [
       "<div>\n",
       "<style scoped>\n",
       "    .dataframe tbody tr th:only-of-type {\n",
       "        vertical-align: middle;\n",
       "    }\n",
       "\n",
       "    .dataframe tbody tr th {\n",
       "        vertical-align: top;\n",
       "    }\n",
       "\n",
       "    .dataframe thead th {\n",
       "        text-align: right;\n",
       "    }\n",
       "</style>\n",
       "<table border=\"1\" class=\"dataframe\">\n",
       "  <thead>\n",
       "    <tr style=\"text-align: right;\">\n",
       "      <th></th>\n",
       "      <th>koi_disposition</th>\n",
       "      <th>koi_fpflag_nt</th>\n",
       "      <th>koi_fpflag_ss</th>\n",
       "      <th>koi_fpflag_co</th>\n",
       "      <th>koi_fpflag_ec</th>\n",
       "      <th>koi_period</th>\n",
       "      <th>koi_period_err1</th>\n",
       "      <th>koi_period_err2</th>\n",
       "      <th>koi_time0bk</th>\n",
       "      <th>koi_time0bk_err1</th>\n",
       "      <th>...</th>\n",
       "      <th>koi_steff_err2</th>\n",
       "      <th>koi_slogg</th>\n",
       "      <th>koi_slogg_err1</th>\n",
       "      <th>koi_slogg_err2</th>\n",
       "      <th>koi_srad</th>\n",
       "      <th>koi_srad_err1</th>\n",
       "      <th>koi_srad_err2</th>\n",
       "      <th>ra</th>\n",
       "      <th>dec</th>\n",
       "      <th>koi_kepmag</th>\n",
       "    </tr>\n",
       "  </thead>\n",
       "  <tbody>\n",
       "    <tr>\n",
       "      <th>0</th>\n",
       "      <td>CONFIRMED</td>\n",
       "      <td>0</td>\n",
       "      <td>0</td>\n",
       "      <td>0</td>\n",
       "      <td>0</td>\n",
       "      <td>54.418383</td>\n",
       "      <td>2.479000e-04</td>\n",
       "      <td>-2.479000e-04</td>\n",
       "      <td>162.513840</td>\n",
       "      <td>0.003520</td>\n",
       "      <td>...</td>\n",
       "      <td>-81</td>\n",
       "      <td>4.467</td>\n",
       "      <td>0.064</td>\n",
       "      <td>-0.096</td>\n",
       "      <td>0.927</td>\n",
       "      <td>0.105</td>\n",
       "      <td>-0.061</td>\n",
       "      <td>291.93423</td>\n",
       "      <td>48.141651</td>\n",
       "      <td>15.347</td>\n",
       "    </tr>\n",
       "    <tr>\n",
       "      <th>1</th>\n",
       "      <td>FALSE POSITIVE</td>\n",
       "      <td>0</td>\n",
       "      <td>1</td>\n",
       "      <td>0</td>\n",
       "      <td>0</td>\n",
       "      <td>19.899140</td>\n",
       "      <td>1.490000e-05</td>\n",
       "      <td>-1.490000e-05</td>\n",
       "      <td>175.850252</td>\n",
       "      <td>0.000581</td>\n",
       "      <td>...</td>\n",
       "      <td>-176</td>\n",
       "      <td>4.544</td>\n",
       "      <td>0.044</td>\n",
       "      <td>-0.176</td>\n",
       "      <td>0.868</td>\n",
       "      <td>0.233</td>\n",
       "      <td>-0.078</td>\n",
       "      <td>297.00482</td>\n",
       "      <td>48.134129</td>\n",
       "      <td>15.436</td>\n",
       "    </tr>\n",
       "    <tr>\n",
       "      <th>2</th>\n",
       "      <td>FALSE POSITIVE</td>\n",
       "      <td>0</td>\n",
       "      <td>1</td>\n",
       "      <td>0</td>\n",
       "      <td>0</td>\n",
       "      <td>1.736952</td>\n",
       "      <td>2.630000e-07</td>\n",
       "      <td>-2.630000e-07</td>\n",
       "      <td>170.307565</td>\n",
       "      <td>0.000115</td>\n",
       "      <td>...</td>\n",
       "      <td>-174</td>\n",
       "      <td>4.564</td>\n",
       "      <td>0.053</td>\n",
       "      <td>-0.168</td>\n",
       "      <td>0.791</td>\n",
       "      <td>0.201</td>\n",
       "      <td>-0.067</td>\n",
       "      <td>285.53461</td>\n",
       "      <td>48.285210</td>\n",
       "      <td>15.597</td>\n",
       "    </tr>\n",
       "    <tr>\n",
       "      <th>3</th>\n",
       "      <td>CONFIRMED</td>\n",
       "      <td>0</td>\n",
       "      <td>0</td>\n",
       "      <td>0</td>\n",
       "      <td>0</td>\n",
       "      <td>2.525592</td>\n",
       "      <td>3.760000e-06</td>\n",
       "      <td>-3.760000e-06</td>\n",
       "      <td>171.595550</td>\n",
       "      <td>0.001130</td>\n",
       "      <td>...</td>\n",
       "      <td>-211</td>\n",
       "      <td>4.438</td>\n",
       "      <td>0.070</td>\n",
       "      <td>-0.210</td>\n",
       "      <td>1.046</td>\n",
       "      <td>0.334</td>\n",
       "      <td>-0.133</td>\n",
       "      <td>288.75488</td>\n",
       "      <td>48.226200</td>\n",
       "      <td>15.509</td>\n",
       "    </tr>\n",
       "    <tr>\n",
       "      <th>4</th>\n",
       "      <td>CONFIRMED</td>\n",
       "      <td>0</td>\n",
       "      <td>0</td>\n",
       "      <td>0</td>\n",
       "      <td>0</td>\n",
       "      <td>4.134435</td>\n",
       "      <td>1.050000e-05</td>\n",
       "      <td>-1.050000e-05</td>\n",
       "      <td>172.979370</td>\n",
       "      <td>0.001900</td>\n",
       "      <td>...</td>\n",
       "      <td>-232</td>\n",
       "      <td>4.486</td>\n",
       "      <td>0.054</td>\n",
       "      <td>-0.229</td>\n",
       "      <td>0.972</td>\n",
       "      <td>0.315</td>\n",
       "      <td>-0.105</td>\n",
       "      <td>296.28613</td>\n",
       "      <td>48.224670</td>\n",
       "      <td>15.714</td>\n",
       "    </tr>\n",
       "  </tbody>\n",
       "</table>\n",
       "<p>5 rows × 41 columns</p>\n",
       "</div>"
      ],
      "text/plain": [
       "  koi_disposition  koi_fpflag_nt  koi_fpflag_ss  koi_fpflag_co  koi_fpflag_ec  \\\n",
       "0       CONFIRMED              0              0              0              0   \n",
       "1  FALSE POSITIVE              0              1              0              0   \n",
       "2  FALSE POSITIVE              0              1              0              0   \n",
       "3       CONFIRMED              0              0              0              0   \n",
       "4       CONFIRMED              0              0              0              0   \n",
       "\n",
       "   koi_period  koi_period_err1  koi_period_err2  koi_time0bk  \\\n",
       "0   54.418383     2.479000e-04    -2.479000e-04   162.513840   \n",
       "1   19.899140     1.490000e-05    -1.490000e-05   175.850252   \n",
       "2    1.736952     2.630000e-07    -2.630000e-07   170.307565   \n",
       "3    2.525592     3.760000e-06    -3.760000e-06   171.595550   \n",
       "4    4.134435     1.050000e-05    -1.050000e-05   172.979370   \n",
       "\n",
       "   koi_time0bk_err1  ...  koi_steff_err2  koi_slogg  koi_slogg_err1  \\\n",
       "0          0.003520  ...             -81      4.467           0.064   \n",
       "1          0.000581  ...            -176      4.544           0.044   \n",
       "2          0.000115  ...            -174      4.564           0.053   \n",
       "3          0.001130  ...            -211      4.438           0.070   \n",
       "4          0.001900  ...            -232      4.486           0.054   \n",
       "\n",
       "   koi_slogg_err2  koi_srad  koi_srad_err1  koi_srad_err2         ra  \\\n",
       "0          -0.096     0.927          0.105         -0.061  291.93423   \n",
       "1          -0.176     0.868          0.233         -0.078  297.00482   \n",
       "2          -0.168     0.791          0.201         -0.067  285.53461   \n",
       "3          -0.210     1.046          0.334         -0.133  288.75488   \n",
       "4          -0.229     0.972          0.315         -0.105  296.28613   \n",
       "\n",
       "         dec  koi_kepmag  \n",
       "0  48.141651      15.347  \n",
       "1  48.134129      15.436  \n",
       "2  48.285210      15.597  \n",
       "3  48.226200      15.509  \n",
       "4  48.224670      15.714  \n",
       "\n",
       "[5 rows x 41 columns]"
      ]
     },
     "execution_count": 37,
     "metadata": {},
     "output_type": "execute_result"
    }
   ],
   "source": [
    "df = pd.read_csv(\"exoplanet_data.csv\")\n",
    "# Drop the null columns where all values are null\n",
    "df = df.dropna(axis='columns', how='all')\n",
    "# Drop the null rows\n",
    "df = df.dropna()\n",
    "df.head()"
   ]
  },
  {
   "cell_type": "markdown",
   "metadata": {},
   "source": [
    "# Select your features (columns)"
   ]
  },
  {
   "cell_type": "code",
   "execution_count": 5,
   "metadata": {},
   "outputs": [
    {
     "data": {
      "text/plain": [
       "Index(['koi_disposition', 'koi_fpflag_nt', 'koi_fpflag_ss', 'koi_fpflag_co',\n",
       "       'koi_fpflag_ec', 'koi_period', 'koi_period_err1', 'koi_period_err2',\n",
       "       'koi_time0bk', 'koi_time0bk_err1', 'koi_time0bk_err2', 'koi_impact',\n",
       "       'koi_impact_err1', 'koi_impact_err2', 'koi_duration',\n",
       "       'koi_duration_err1', 'koi_duration_err2', 'koi_depth', 'koi_depth_err1',\n",
       "       'koi_depth_err2', 'koi_prad', 'koi_prad_err1', 'koi_prad_err2',\n",
       "       'koi_teq', 'koi_insol', 'koi_insol_err1', 'koi_insol_err2',\n",
       "       'koi_model_snr', 'koi_tce_plnt_num', 'koi_steff', 'koi_steff_err1',\n",
       "       'koi_steff_err2', 'koi_slogg', 'koi_slogg_err1', 'koi_slogg_err2',\n",
       "       'koi_srad', 'koi_srad_err1', 'koi_srad_err2', 'ra', 'dec',\n",
       "       'koi_kepmag'],\n",
       "      dtype='object')"
      ]
     },
     "execution_count": 5,
     "metadata": {},
     "output_type": "execute_result"
    }
   ],
   "source": [
    "df.columns"
   ]
  },
  {
   "cell_type": "code",
   "execution_count": 6,
   "metadata": {},
   "outputs": [],
   "source": [
    "# Set features. This will also be used as your x values.\n",
    "selected_features = df[['koi_disposition', 'koi_fpflag_nt', 'koi_fpflag_ss', 'koi_fpflag_co', 'koi_fpflag_ec', 'koi_period', 'koi_impact', 'koi_slogg', 'koi_kepmag', 'dec'  ]]"
   ]
  },
  {
   "cell_type": "markdown",
   "metadata": {},
   "source": [
    "# Create a Train Test Split\n",
    "\n",
    "Use `koi_disposition` for the y values"
   ]
  },
  {
   "cell_type": "code",
   "execution_count": 7,
   "metadata": {},
   "outputs": [],
   "source": [
    "# Assign X and y values\n",
    "X = selected_features.drop('koi_disposition',axis=1)\n",
    "y = selected_features['koi_disposition']"
   ]
  },
  {
   "cell_type": "code",
   "execution_count": 8,
   "metadata": {},
   "outputs": [],
   "source": [
    "# Use train_test_split to create test and train sets of data\n",
    "\n",
    "X_train,X_test,y_train,y_test = train_test_split(X, y, random_state=22)"
   ]
  },
  {
   "cell_type": "code",
   "execution_count": 9,
   "metadata": {},
   "outputs": [
    {
     "data": {
      "text/html": [
       "<div>\n",
       "<style scoped>\n",
       "    .dataframe tbody tr th:only-of-type {\n",
       "        vertical-align: middle;\n",
       "    }\n",
       "\n",
       "    .dataframe tbody tr th {\n",
       "        vertical-align: top;\n",
       "    }\n",
       "\n",
       "    .dataframe thead th {\n",
       "        text-align: right;\n",
       "    }\n",
       "</style>\n",
       "<table border=\"1\" class=\"dataframe\">\n",
       "  <thead>\n",
       "    <tr style=\"text-align: right;\">\n",
       "      <th></th>\n",
       "      <th>koi_fpflag_nt</th>\n",
       "      <th>koi_fpflag_ss</th>\n",
       "      <th>koi_fpflag_co</th>\n",
       "      <th>koi_fpflag_ec</th>\n",
       "      <th>koi_period</th>\n",
       "      <th>koi_impact</th>\n",
       "      <th>koi_slogg</th>\n",
       "      <th>koi_kepmag</th>\n",
       "      <th>dec</th>\n",
       "    </tr>\n",
       "  </thead>\n",
       "  <tbody>\n",
       "    <tr>\n",
       "      <th>5448</th>\n",
       "      <td>0</td>\n",
       "      <td>1</td>\n",
       "      <td>0</td>\n",
       "      <td>0</td>\n",
       "      <td>6.099033</td>\n",
       "      <td>0.8910</td>\n",
       "      <td>4.297</td>\n",
       "      <td>13.745</td>\n",
       "      <td>44.577209</td>\n",
       "    </tr>\n",
       "    <tr>\n",
       "      <th>5953</th>\n",
       "      <td>0</td>\n",
       "      <td>1</td>\n",
       "      <td>1</td>\n",
       "      <td>0</td>\n",
       "      <td>18.360224</td>\n",
       "      <td>0.1819</td>\n",
       "      <td>4.551</td>\n",
       "      <td>15.703</td>\n",
       "      <td>42.061729</td>\n",
       "    </tr>\n",
       "    <tr>\n",
       "      <th>2226</th>\n",
       "      <td>0</td>\n",
       "      <td>0</td>\n",
       "      <td>0</td>\n",
       "      <td>0</td>\n",
       "      <td>25.752750</td>\n",
       "      <td>0.5160</td>\n",
       "      <td>4.501</td>\n",
       "      <td>14.550</td>\n",
       "      <td>43.853260</td>\n",
       "    </tr>\n",
       "    <tr>\n",
       "      <th>6586</th>\n",
       "      <td>1</td>\n",
       "      <td>0</td>\n",
       "      <td>0</td>\n",
       "      <td>0</td>\n",
       "      <td>354.789700</td>\n",
       "      <td>0.4490</td>\n",
       "      <td>4.742</td>\n",
       "      <td>10.067</td>\n",
       "      <td>41.318802</td>\n",
       "    </tr>\n",
       "    <tr>\n",
       "      <th>4346</th>\n",
       "      <td>0</td>\n",
       "      <td>1</td>\n",
       "      <td>1</td>\n",
       "      <td>1</td>\n",
       "      <td>2.845736</td>\n",
       "      <td>1.2940</td>\n",
       "      <td>2.745</td>\n",
       "      <td>12.367</td>\n",
       "      <td>40.649029</td>\n",
       "    </tr>\n",
       "  </tbody>\n",
       "</table>\n",
       "</div>"
      ],
      "text/plain": [
       "      koi_fpflag_nt  koi_fpflag_ss  koi_fpflag_co  koi_fpflag_ec  koi_period  \\\n",
       "5448              0              1              0              0    6.099033   \n",
       "5953              0              1              1              0   18.360224   \n",
       "2226              0              0              0              0   25.752750   \n",
       "6586              1              0              0              0  354.789700   \n",
       "4346              0              1              1              1    2.845736   \n",
       "\n",
       "      koi_impact  koi_slogg  koi_kepmag        dec  \n",
       "5448      0.8910      4.297      13.745  44.577209  \n",
       "5953      0.1819      4.551      15.703  42.061729  \n",
       "2226      0.5160      4.501      14.550  43.853260  \n",
       "6586      0.4490      4.742      10.067  41.318802  \n",
       "4346      1.2940      2.745      12.367  40.649029  "
      ]
     },
     "execution_count": 9,
     "metadata": {},
     "output_type": "execute_result"
    }
   ],
   "source": [
    "X_train.head()"
   ]
  },
  {
   "cell_type": "markdown",
   "metadata": {},
   "source": [
    "# Pre-processing\n",
    "\n",
    "Scale the data using the MinMaxScaler and perform some feature selection"
   ]
  },
  {
   "cell_type": "code",
   "execution_count": 10,
   "metadata": {},
   "outputs": [],
   "source": [
    "# Scale your data\n",
    "X_scaler = MinMaxScaler().fit(X_train)\n",
    "X_train_scaled = X_scaler.transform(X_train)\n",
    "X_test_scaled = X_scaler.transform(X_test)"
   ]
  },
  {
   "cell_type": "markdown",
   "metadata": {},
   "source": [
    "# Train the Model\n",
    "\n"
   ]
  },
  {
   "cell_type": "markdown",
   "metadata": {},
   "source": [
    "#### Logistic Regression"
   ]
  },
  {
   "cell_type": "code",
   "execution_count": 14,
   "metadata": {},
   "outputs": [
    {
     "data": {
      "text/plain": [
       "LogisticRegression(C=1.0, class_weight='balanced', dual=False,\n",
       "                   fit_intercept=True, intercept_scaling=1, l1_ratio=None,\n",
       "                   max_iter=5000, multi_class='auto', n_jobs=None, penalty='l2',\n",
       "                   random_state=None, solver='lbfgs', tol=0.0001, verbose=0,\n",
       "                   warm_start=False)"
      ]
     },
     "execution_count": 14,
     "metadata": {},
     "output_type": "execute_result"
    }
   ],
   "source": [
    "classifier = LogisticRegression(class_weight='balanced', max_iter=5000)\n",
    "classifier"
   ]
  },
  {
   "cell_type": "code",
   "execution_count": 15,
   "metadata": {},
   "outputs": [
    {
     "data": {
      "text/plain": [
       "LogisticRegression(C=1.0, class_weight='balanced', dual=False,\n",
       "                   fit_intercept=True, intercept_scaling=1, l1_ratio=None,\n",
       "                   max_iter=5000, multi_class='auto', n_jobs=None, penalty='l2',\n",
       "                   random_state=None, solver='lbfgs', tol=0.0001, verbose=0,\n",
       "                   warm_start=False)"
      ]
     },
     "execution_count": 15,
     "metadata": {},
     "output_type": "execute_result"
    }
   ],
   "source": [
    "classifier.fit(X_train,y_train)"
   ]
  },
  {
   "cell_type": "code",
   "execution_count": 16,
   "metadata": {},
   "outputs": [
    {
     "name": "stdout",
     "output_type": "stream",
     "text": [
      "Training Data Score: 0.7352660690444403\n",
      "Testing Data Score: 0.7482837528604119\n"
     ]
    }
   ],
   "source": [
    "print(f\"Training Data Score: {classifier.score(X_train_scaled, y_train)}\")\n",
    "print(f\"Testing Data Score: {classifier.score(X_test_scaled, y_test)}\")"
   ]
  },
  {
   "cell_type": "markdown",
   "metadata": {},
   "source": [
    "#### Decision Tree"
   ]
  },
  {
   "cell_type": "code",
   "execution_count": 17,
   "metadata": {},
   "outputs": [
    {
     "name": "stdout",
     "output_type": "stream",
     "text": [
      "Train score: 0.8481785237459469\n",
      "Test score: 0.7974828375286042\n"
     ]
    }
   ],
   "source": [
    "# Set up Decision Tree Model & print train/test scores\n",
    "clf = tree.DecisionTreeClassifier(max_depth=11, class_weight='balanced')\n",
    "clf = clf.fit(X_train_scaled, y_train)\n",
    "print('Train score: {}'.format(clf.score(X_train_scaled, y_train)))\n",
    "print('Test score: {}'.format(clf.score(X_test_scaled, y_test)))"
   ]
  },
  {
   "cell_type": "markdown",
   "metadata": {},
   "source": [
    "#### Random Forest"
   ]
  },
  {
   "cell_type": "code",
   "execution_count": 18,
   "metadata": {},
   "outputs": [
    {
     "data": {
      "text/plain": [
       "0.8100686498855835"
      ]
     },
     "execution_count": 18,
     "metadata": {},
     "output_type": "execute_result"
    }
   ],
   "source": [
    "# Create a random forest classifier\n",
    "rf = RandomForestClassifier(n_estimators=50, class_weight='balanced')\n",
    "rf = rf.fit(X_train_scaled, y_train)\n",
    "rf.score(X_test_scaled, y_test)"
   ]
  },
  {
   "cell_type": "code",
   "execution_count": 19,
   "metadata": {},
   "outputs": [
    {
     "data": {
      "text/plain": [
       "array([0.12688076, 0.16360714, 0.10983109, 0.04191871, 0.12950893,\n",
       "       0.12822601, 0.10610194, 0.09875778, 0.09516763])"
      ]
     },
     "execution_count": 19,
     "metadata": {},
     "output_type": "execute_result"
    }
   ],
   "source": [
    "# Calculate feature importance\n",
    "importances = rf.feature_importances_\n",
    "importances"
   ]
  },
  {
   "cell_type": "code",
   "execution_count": 20,
   "metadata": {},
   "outputs": [
    {
     "data": {
      "text/plain": [
       "[(0.16360714173428803, 'koi_fpflag_ss'),\n",
       " (0.12950892757946653, 'koi_period'),\n",
       " (0.12822601341220882, 'koi_impact'),\n",
       " (0.1268807589524399, 'koi_fpflag_nt'),\n",
       " (0.10983108569961501, 'koi_fpflag_co'),\n",
       " (0.10610194076131484, 'koi_slogg'),\n",
       " (0.09875778387397535, 'koi_kepmag'),\n",
       " (0.09516763496504843, 'dec'),\n",
       " (0.04191871302164315, 'koi_fpflag_ec')]"
      ]
     },
     "execution_count": 20,
     "metadata": {},
     "output_type": "execute_result"
    }
   ],
   "source": [
    " # Sort the features by their importance\n",
    "sorted(zip(rf.feature_importances_, X), reverse=True)"
   ]
  },
  {
   "cell_type": "code",
   "execution_count": 21,
   "metadata": {},
   "outputs": [
    {
     "name": "stdout",
     "output_type": "stream",
     "text": [
      "Training Data Score: 0.9998092695021934\n",
      "Testing Data Score: 0.8100686498855835\n"
     ]
    }
   ],
   "source": [
    "print(f\"Training Data Score: {rf.score(X_train_scaled, y_train)}\")\n",
    "print(f\"Testing Data Score: {rf.score(X_test_scaled, y_test)}\")"
   ]
  },
  {
   "cell_type": "markdown",
   "metadata": {},
   "source": [
    "#### KNN"
   ]
  },
  {
   "cell_type": "code",
   "execution_count": 22,
   "metadata": {},
   "outputs": [
    {
     "name": "stdout",
     "output_type": "stream",
     "text": [
      "k: 1, Train/Test Score: 1.000/0.782\n",
      "k: 3, Train/Test Score: 0.887/0.786\n",
      "k: 5, Train/Test Score: 0.861/0.789\n",
      "k: 7, Train/Test Score: 0.850/0.792\n",
      "k: 9, Train/Test Score: 0.840/0.798\n",
      "k: 11, Train/Test Score: 0.831/0.793\n",
      "k: 13, Train/Test Score: 0.824/0.800\n",
      "k: 15, Train/Test Score: 0.825/0.793\n",
      "k: 17, Train/Test Score: 0.825/0.792\n",
      "k: 19, Train/Test Score: 0.826/0.791\n"
     ]
    },
    {
     "data": {
      "image/png": "[encoded data removed]",
      "text/plain": [
       "<Figure size 432x288 with 1 Axes>"
      ]
     },
     "metadata": {
      "needs_background": "light"
     },
     "output_type": "display_data"
    }
   ],
   "source": [
    "train_scores = []\n",
    "test_scores = []\n",
    "for k in range(1, 20, 2):\n",
    "    knn = KNeighborsClassifier(n_neighbors=k)\n",
    "    knn.fit(X_train_scaled, y_train)\n",
    "    train_score = knn.score(X_train_scaled, y_train)\n",
    "    test_score = knn.score(X_test_scaled, y_test)\n",
    "    train_scores.append(train_score)\n",
    "    test_scores.append(test_score)\n",
    "    print(f\"k: {k}, Train/Test Score: {train_score:.3f}/{test_score:.3f}\")\n",
    "    \n",
    "    \n",
    "plt.plot(range(1, 20, 2), train_scores, marker='o')\n",
    "plt.plot(range(1, 20, 2), test_scores, marker=\"x\")\n",
    "plt.xlabel(\"k neighbors\")\n",
    "plt.ylabel(\"Testing accuracy Score\")\n",
    "plt.show()"
   ]
  },
  {
   "cell_type": "code",
   "execution_count": 26,
   "metadata": {},
   "outputs": [
    {
     "name": "stdout",
     "output_type": "stream",
     "text": [
      "k=9 Test Acc: 0.798\n"
     ]
    }
   ],
   "source": [
    "knn = KNeighborsClassifier(n_neighbors=9)\n",
    "knn.fit(X_train_scaled, y_train)\n",
    "print('k=9 Test Acc: %.3f' % knn.score(X_test_scaled, y_test))"
   ]
  },
  {
   "cell_type": "markdown",
   "metadata": {},
   "source": [
    "# Hyperparameter Tuning\n",
    "\n",
    "Use `GridSearchCV` to tune the model's parameters"
   ]
  },
  {
   "cell_type": "code",
   "execution_count": 27,
   "metadata": {},
   "outputs": [],
   "source": [
    "# Create the GridSearchCV model\n",
    "param_grid = {'n_estimators':[100,200,300,400, 500],\n",
    "             'min_samples_leaf':[1,2,3,4]}"
   ]
  },
  {
   "cell_type": "code",
   "execution_count": 31,
   "metadata": {},
   "outputs": [],
   "source": [
    "grid = GridSearchCV(RandomForestClassifier(),param_grid,verbose=3)"
   ]
  },
  {
   "cell_type": "code",
   "execution_count": 32,
   "metadata": {},
   "outputs": [
    {
     "name": "stdout",
     "output_type": "stream",
     "text": [
      "Fitting 5 folds for each of 20 candidates, totalling 100 fits\n",
      "[CV] min_samples_leaf=1, n_estimators=100 ............................\n"
     ]
    },
    {
     "name": "stderr",
     "output_type": "stream",
     "text": [
      "[Parallel(n_jobs=1)]: Using backend SequentialBackend with 1 concurrent workers.\n"
     ]
    },
    {
     "name": "stdout",
     "output_type": "stream",
     "text": [
      "[CV]  min_samples_leaf=1, n_estimators=100, score=0.801, total=   0.5s\n",
      "[CV] min_samples_leaf=1, n_estimators=100 ............................\n"
     ]
    },
    {
     "name": "stderr",
     "output_type": "stream",
     "text": [
      "[Parallel(n_jobs=1)]: Done   1 out of   1 | elapsed:    0.4s remaining:    0.0s\n"
     ]
    },
    {
     "name": "stdout",
     "output_type": "stream",
     "text": [
      "[CV]  min_samples_leaf=1, n_estimators=100, score=0.821, total=   0.5s\n",
      "[CV] min_samples_leaf=1, n_estimators=100 ............................\n"
     ]
    },
    {
     "name": "stderr",
     "output_type": "stream",
     "text": [
      "[Parallel(n_jobs=1)]: Done   2 out of   2 | elapsed:    0.8s remaining:    0.0s\n"
     ]
    },
    {
     "name": "stdout",
     "output_type": "stream",
     "text": [
      "[CV]  min_samples_leaf=1, n_estimators=100, score=0.823, total=   0.5s\n",
      "[CV] min_samples_leaf=1, n_estimators=100 ............................\n",
      "[CV]  min_samples_leaf=1, n_estimators=100, score=0.823, total=   0.5s\n",
      "[CV] min_samples_leaf=1, n_estimators=100 ............................\n",
      "[CV]  min_samples_leaf=1, n_estimators=100, score=0.814, total=   0.5s\n",
      "[CV] min_samples_leaf=1, n_estimators=200 ............................\n",
      "[CV]  min_samples_leaf=1, n_estimators=200, score=0.804, total=   1.0s\n",
      "[CV] min_samples_leaf=1, n_estimators=200 ............................\n",
      "[CV]  min_samples_leaf=1, n_estimators=200, score=0.819, total=   1.2s\n",
      "[CV] min_samples_leaf=1, n_estimators=200 ............................\n",
      "[CV]  min_samples_leaf=1, n_estimators=200, score=0.817, total=   1.2s\n",
      "[CV] min_samples_leaf=1, n_estimators=200 ............................\n",
      "[CV]  min_samples_leaf=1, n_estimators=200, score=0.832, total=   1.0s\n",
      "[CV] min_samples_leaf=1, n_estimators=200 ............................\n",
      "[CV]  min_samples_leaf=1, n_estimators=200, score=0.810, total=   1.0s\n",
      "[CV] min_samples_leaf=1, n_estimators=300 ............................\n",
      "[CV]  min_samples_leaf=1, n_estimators=300, score=0.808, total=   1.4s\n",
      "[CV] min_samples_leaf=1, n_estimators=300 ............................\n",
      "[CV]  min_samples_leaf=1, n_estimators=300, score=0.823, total=   1.5s\n",
      "[CV] min_samples_leaf=1, n_estimators=300 ............................\n",
      "[CV]  min_samples_leaf=1, n_estimators=300, score=0.823, total=   1.4s\n",
      "[CV] min_samples_leaf=1, n_estimators=300 ............................\n",
      "[CV]  min_samples_leaf=1, n_estimators=300, score=0.826, total=   1.4s\n",
      "[CV] min_samples_leaf=1, n_estimators=300 ............................\n",
      "[CV]  min_samples_leaf=1, n_estimators=300, score=0.807, total=   1.5s\n",
      "[CV] min_samples_leaf=1, n_estimators=400 ............................\n",
      "[CV]  min_samples_leaf=1, n_estimators=400, score=0.806, total=   1.9s\n",
      "[CV] min_samples_leaf=1, n_estimators=400 ............................\n",
      "[CV]  min_samples_leaf=1, n_estimators=400, score=0.822, total=   1.9s\n",
      "[CV] min_samples_leaf=1, n_estimators=400 ............................\n",
      "[CV]  min_samples_leaf=1, n_estimators=400, score=0.823, total=   1.9s\n",
      "[CV] min_samples_leaf=1, n_estimators=400 ............................\n",
      "[CV]  min_samples_leaf=1, n_estimators=400, score=0.835, total=   1.9s\n",
      "[CV] min_samples_leaf=1, n_estimators=400 ............................\n",
      "[CV]  min_samples_leaf=1, n_estimators=400, score=0.814, total=   2.0s\n",
      "[CV] min_samples_leaf=1, n_estimators=500 ............................\n",
      "[CV]  min_samples_leaf=1, n_estimators=500, score=0.803, total=   2.6s\n",
      "[CV] min_samples_leaf=1, n_estimators=500 ............................\n",
      "[CV]  min_samples_leaf=1, n_estimators=500, score=0.823, total=   2.7s\n",
      "[CV] min_samples_leaf=1, n_estimators=500 ............................\n",
      "[CV]  min_samples_leaf=1, n_estimators=500, score=0.820, total=   2.8s\n",
      "[CV] min_samples_leaf=1, n_estimators=500 ............................\n",
      "[CV]  min_samples_leaf=1, n_estimators=500, score=0.830, total=   2.7s\n",
      "[CV] min_samples_leaf=1, n_estimators=500 ............................\n",
      "[CV]  min_samples_leaf=1, n_estimators=500, score=0.812, total=   2.4s\n",
      "[CV] min_samples_leaf=2, n_estimators=100 ............................\n",
      "[CV]  min_samples_leaf=2, n_estimators=100, score=0.808, total=   0.5s\n",
      "[CV] min_samples_leaf=2, n_estimators=100 ............................\n",
      "[CV]  min_samples_leaf=2, n_estimators=100, score=0.818, total=   0.5s\n",
      "[CV] min_samples_leaf=2, n_estimators=100 ............................\n",
      "[CV]  min_samples_leaf=2, n_estimators=100, score=0.819, total=   0.5s\n",
      "[CV] min_samples_leaf=2, n_estimators=100 ............................\n",
      "[CV]  min_samples_leaf=2, n_estimators=100, score=0.824, total=   0.5s\n",
      "[CV] min_samples_leaf=2, n_estimators=100 ............................\n",
      "[CV]  min_samples_leaf=2, n_estimators=100, score=0.814, total=   0.5s\n",
      "[CV] min_samples_leaf=2, n_estimators=200 ............................\n",
      "[CV]  min_samples_leaf=2, n_estimators=200, score=0.807, total=   0.9s\n",
      "[CV] min_samples_leaf=2, n_estimators=200 ............................\n",
      "[CV]  min_samples_leaf=2, n_estimators=200, score=0.829, total=   0.9s\n",
      "[CV] min_samples_leaf=2, n_estimators=200 ............................\n",
      "[CV]  min_samples_leaf=2, n_estimators=200, score=0.825, total=   0.9s\n",
      "[CV] min_samples_leaf=2, n_estimators=200 ............................\n",
      "[CV]  min_samples_leaf=2, n_estimators=200, score=0.829, total=   1.1s\n",
      "[CV] min_samples_leaf=2, n_estimators=200 ............................\n",
      "[CV]  min_samples_leaf=2, n_estimators=200, score=0.817, total=   1.0s\n",
      "[CV] min_samples_leaf=2, n_estimators=300 ............................\n",
      "[CV]  min_samples_leaf=2, n_estimators=300, score=0.805, total=   1.4s\n",
      "[CV] min_samples_leaf=2, n_estimators=300 ............................\n",
      "[CV]  min_samples_leaf=2, n_estimators=300, score=0.822, total=   1.4s\n",
      "[CV] min_samples_leaf=2, n_estimators=300 ............................\n",
      "[CV]  min_samples_leaf=2, n_estimators=300, score=0.825, total=   1.4s\n",
      "[CV] min_samples_leaf=2, n_estimators=300 ............................\n",
      "[CV]  min_samples_leaf=2, n_estimators=300, score=0.835, total=   1.4s\n",
      "[CV] min_samples_leaf=2, n_estimators=300 ............................\n",
      "[CV]  min_samples_leaf=2, n_estimators=300, score=0.816, total=   1.4s\n",
      "[CV] min_samples_leaf=2, n_estimators=400 ............................\n",
      "[CV]  min_samples_leaf=2, n_estimators=400, score=0.810, total=   1.9s\n",
      "[CV] min_samples_leaf=2, n_estimators=400 ............................\n",
      "[CV]  min_samples_leaf=2, n_estimators=400, score=0.828, total=   1.8s\n",
      "[CV] min_samples_leaf=2, n_estimators=400 ............................\n",
      "[CV]  min_samples_leaf=2, n_estimators=400, score=0.823, total=   1.9s\n",
      "[CV] min_samples_leaf=2, n_estimators=400 ............................\n",
      "[CV]  min_samples_leaf=2, n_estimators=400, score=0.837, total=   1.9s\n",
      "[CV] min_samples_leaf=2, n_estimators=400 ............................\n",
      "[CV]  min_samples_leaf=2, n_estimators=400, score=0.810, total=   1.9s\n",
      "[CV] min_samples_leaf=2, n_estimators=500 ............................\n",
      "[CV]  min_samples_leaf=2, n_estimators=500, score=0.811, total=   2.3s\n",
      "[CV] min_samples_leaf=2, n_estimators=500 ............................\n",
      "[CV]  min_samples_leaf=2, n_estimators=500, score=0.824, total=   2.3s\n",
      "[CV] min_samples_leaf=2, n_estimators=500 ............................\n",
      "[CV]  min_samples_leaf=2, n_estimators=500, score=0.812, total=   2.4s\n",
      "[CV] min_samples_leaf=2, n_estimators=500 ............................\n",
      "[CV]  min_samples_leaf=2, n_estimators=500, score=0.833, total=   2.4s\n",
      "[CV] min_samples_leaf=2, n_estimators=500 ............................\n",
      "[CV]  min_samples_leaf=2, n_estimators=500, score=0.811, total=   2.3s\n",
      "[CV] min_samples_leaf=3, n_estimators=100 ............................\n",
      "[CV]  min_samples_leaf=3, n_estimators=100, score=0.801, total=   0.5s\n",
      "[CV] min_samples_leaf=3, n_estimators=100 ............................\n",
      "[CV]  min_samples_leaf=3, n_estimators=100, score=0.820, total=   0.5s\n",
      "[CV] min_samples_leaf=3, n_estimators=100 ............................\n",
      "[CV]  min_samples_leaf=3, n_estimators=100, score=0.815, total=   0.5s\n",
      "[CV] min_samples_leaf=3, n_estimators=100 ............................\n",
      "[CV]  min_samples_leaf=3, n_estimators=100, score=0.830, total=   0.5s\n",
      "[CV] min_samples_leaf=3, n_estimators=100 ............................\n",
      "[CV]  min_samples_leaf=3, n_estimators=100, score=0.802, total=   0.5s\n",
      "[CV] min_samples_leaf=3, n_estimators=200 ............................\n",
      "[CV]  min_samples_leaf=3, n_estimators=200, score=0.808, total=   0.9s\n",
      "[CV] min_samples_leaf=3, n_estimators=200 ............................\n",
      "[CV]  min_samples_leaf=3, n_estimators=200, score=0.821, total=   0.9s\n",
      "[CV] min_samples_leaf=3, n_estimators=200 ............................\n",
      "[CV]  min_samples_leaf=3, n_estimators=200, score=0.827, total=   0.9s\n",
      "[CV] min_samples_leaf=3, n_estimators=200 ............................\n",
      "[CV]  min_samples_leaf=3, n_estimators=200, score=0.831, total=   0.9s\n",
      "[CV] min_samples_leaf=3, n_estimators=200 ............................\n",
      "[CV]  min_samples_leaf=3, n_estimators=200, score=0.815, total=   0.9s\n",
      "[CV] min_samples_leaf=3, n_estimators=300 ............................\n"
     ]
    },
    {
     "name": "stdout",
     "output_type": "stream",
     "text": [
      "[CV]  min_samples_leaf=3, n_estimators=300, score=0.813, total=   1.4s\n",
      "[CV] min_samples_leaf=3, n_estimators=300 ............................\n",
      "[CV]  min_samples_leaf=3, n_estimators=300, score=0.827, total=   1.4s\n",
      "[CV] min_samples_leaf=3, n_estimators=300 ............................\n",
      "[CV]  min_samples_leaf=3, n_estimators=300, score=0.825, total=   1.4s\n",
      "[CV] min_samples_leaf=3, n_estimators=300 ............................\n",
      "[CV]  min_samples_leaf=3, n_estimators=300, score=0.832, total=   1.4s\n",
      "[CV] min_samples_leaf=3, n_estimators=300 ............................\n",
      "[CV]  min_samples_leaf=3, n_estimators=300, score=0.813, total=   1.4s\n",
      "[CV] min_samples_leaf=3, n_estimators=400 ............................\n",
      "[CV]  min_samples_leaf=3, n_estimators=400, score=0.808, total=   1.9s\n",
      "[CV] min_samples_leaf=3, n_estimators=400 ............................\n",
      "[CV]  min_samples_leaf=3, n_estimators=400, score=0.822, total=   1.9s\n",
      "[CV] min_samples_leaf=3, n_estimators=400 ............................\n",
      "[CV]  min_samples_leaf=3, n_estimators=400, score=0.826, total=   1.9s\n",
      "[CV] min_samples_leaf=3, n_estimators=400 ............................\n",
      "[CV]  min_samples_leaf=3, n_estimators=400, score=0.833, total=   1.9s\n",
      "[CV] min_samples_leaf=3, n_estimators=400 ............................\n",
      "[CV]  min_samples_leaf=3, n_estimators=400, score=0.814, total=   1.8s\n",
      "[CV] min_samples_leaf=3, n_estimators=500 ............................\n",
      "[CV]  min_samples_leaf=3, n_estimators=500, score=0.811, total=   2.3s\n",
      "[CV] min_samples_leaf=3, n_estimators=500 ............................\n",
      "[CV]  min_samples_leaf=3, n_estimators=500, score=0.817, total=   2.3s\n",
      "[CV] min_samples_leaf=3, n_estimators=500 ............................\n",
      "[CV]  min_samples_leaf=3, n_estimators=500, score=0.818, total=   2.3s\n",
      "[CV] min_samples_leaf=3, n_estimators=500 ............................\n",
      "[CV]  min_samples_leaf=3, n_estimators=500, score=0.829, total=   2.5s\n",
      "[CV] min_samples_leaf=3, n_estimators=500 ............................\n",
      "[CV]  min_samples_leaf=3, n_estimators=500, score=0.805, total=   2.3s\n",
      "[CV] min_samples_leaf=4, n_estimators=100 ............................\n",
      "[CV]  min_samples_leaf=4, n_estimators=100, score=0.814, total=   0.5s\n",
      "[CV] min_samples_leaf=4, n_estimators=100 ............................\n",
      "[CV]  min_samples_leaf=4, n_estimators=100, score=0.828, total=   0.5s\n",
      "[CV] min_samples_leaf=4, n_estimators=100 ............................\n",
      "[CV]  min_samples_leaf=4, n_estimators=100, score=0.826, total=   0.5s\n",
      "[CV] min_samples_leaf=4, n_estimators=100 ............................\n",
      "[CV]  min_samples_leaf=4, n_estimators=100, score=0.832, total=   0.5s\n",
      "[CV] min_samples_leaf=4, n_estimators=100 ............................\n",
      "[CV]  min_samples_leaf=4, n_estimators=100, score=0.816, total=   0.5s\n",
      "[CV] min_samples_leaf=4, n_estimators=200 ............................\n",
      "[CV]  min_samples_leaf=4, n_estimators=200, score=0.808, total=   0.9s\n",
      "[CV] min_samples_leaf=4, n_estimators=200 ............................\n",
      "[CV]  min_samples_leaf=4, n_estimators=200, score=0.825, total=   0.9s\n",
      "[CV] min_samples_leaf=4, n_estimators=200 ............................\n",
      "[CV]  min_samples_leaf=4, n_estimators=200, score=0.819, total=   0.9s\n",
      "[CV] min_samples_leaf=4, n_estimators=200 ............................\n",
      "[CV]  min_samples_leaf=4, n_estimators=200, score=0.827, total=   0.9s\n",
      "[CV] min_samples_leaf=4, n_estimators=200 ............................\n",
      "[CV]  min_samples_leaf=4, n_estimators=200, score=0.813, total=   0.9s\n",
      "[CV] min_samples_leaf=4, n_estimators=300 ............................\n",
      "[CV]  min_samples_leaf=4, n_estimators=300, score=0.810, total=   1.3s\n",
      "[CV] min_samples_leaf=4, n_estimators=300 ............................\n",
      "[CV]  min_samples_leaf=4, n_estimators=300, score=0.825, total=   1.3s\n",
      "[CV] min_samples_leaf=4, n_estimators=300 ............................\n",
      "[CV]  min_samples_leaf=4, n_estimators=300, score=0.817, total=   1.4s\n",
      "[CV] min_samples_leaf=4, n_estimators=300 ............................\n",
      "[CV]  min_samples_leaf=4, n_estimators=300, score=0.834, total=   1.4s\n",
      "[CV] min_samples_leaf=4, n_estimators=300 ............................\n",
      "[CV]  min_samples_leaf=4, n_estimators=300, score=0.813, total=   1.3s\n",
      "[CV] min_samples_leaf=4, n_estimators=400 ............................\n",
      "[CV]  min_samples_leaf=4, n_estimators=400, score=0.818, total=   1.8s\n",
      "[CV] min_samples_leaf=4, n_estimators=400 ............................\n",
      "[CV]  min_samples_leaf=4, n_estimators=400, score=0.820, total=   1.8s\n",
      "[CV] min_samples_leaf=4, n_estimators=400 ............................\n",
      "[CV]  min_samples_leaf=4, n_estimators=400, score=0.823, total=   1.9s\n",
      "[CV] min_samples_leaf=4, n_estimators=400 ............................\n",
      "[CV]  min_samples_leaf=4, n_estimators=400, score=0.832, total=   1.8s\n",
      "[CV] min_samples_leaf=4, n_estimators=400 ............................\n",
      "[CV]  min_samples_leaf=4, n_estimators=400, score=0.806, total=   1.8s\n",
      "[CV] min_samples_leaf=4, n_estimators=500 ............................\n",
      "[CV]  min_samples_leaf=4, n_estimators=500, score=0.810, total=   2.3s\n",
      "[CV] min_samples_leaf=4, n_estimators=500 ............................\n",
      "[CV]  min_samples_leaf=4, n_estimators=500, score=0.825, total=   2.3s\n",
      "[CV] min_samples_leaf=4, n_estimators=500 ............................\n",
      "[CV]  min_samples_leaf=4, n_estimators=500, score=0.821, total=   2.2s\n",
      "[CV] min_samples_leaf=4, n_estimators=500 ............................\n",
      "[CV]  min_samples_leaf=4, n_estimators=500, score=0.833, total=   2.3s\n",
      "[CV] min_samples_leaf=4, n_estimators=500 ............................\n",
      "[CV]  min_samples_leaf=4, n_estimators=500, score=0.812, total=   2.2s\n"
     ]
    },
    {
     "name": "stderr",
     "output_type": "stream",
     "text": [
      "[Parallel(n_jobs=1)]: Done 100 out of 100 | elapsed:  2.4min finished\n"
     ]
    },
    {
     "data": {
      "text/plain": [
       "GridSearchCV(cv=None, error_score=nan,\n",
       "             estimator=RandomForestClassifier(bootstrap=True, ccp_alpha=0.0,\n",
       "                                              class_weight=None,\n",
       "                                              criterion='gini', max_depth=None,\n",
       "                                              max_features='auto',\n",
       "                                              max_leaf_nodes=None,\n",
       "                                              max_samples=None,\n",
       "                                              min_impurity_decrease=0.0,\n",
       "                                              min_impurity_split=None,\n",
       "                                              min_samples_leaf=1,\n",
       "                                              min_samples_split=2,\n",
       "                                              min_weight_fraction_leaf=0.0,\n",
       "                                              n_estimators=100, n_jobs=None,\n",
       "                                              oob_score=False,\n",
       "                                              random_state=None, verbose=0,\n",
       "                                              warm_start=False),\n",
       "             iid='deprecated', n_jobs=None,\n",
       "             param_grid={'min_samples_leaf': [1, 2, 3, 4],\n",
       "                         'n_estimators': [100, 200, 300, 400, 500]},\n",
       "             pre_dispatch='2*n_jobs', refit=True, return_train_score=False,\n",
       "             scoring=None, verbose=3)"
      ]
     },
     "execution_count": 32,
     "metadata": {},
     "output_type": "execute_result"
    }
   ],
   "source": [
    "grid.fit(X_train_scaled,y_train)"
   ]
  },
  {
   "cell_type": "code",
   "execution_count": 33,
   "metadata": {},
   "outputs": [
    {
     "name": "stdout",
     "output_type": "stream",
     "text": [
      "{'min_samples_leaf': 4, 'n_estimators': 100}\n",
      "0.8231931174000684\n"
     ]
    }
   ],
   "source": [
    "print(grid.best_params_)\n",
    "print(grid.best_score_)"
   ]
  },
  {
   "cell_type": "markdown",
   "metadata": {},
   "source": [
    "# Save the Model"
   ]
  },
  {
   "cell_type": "code",
   "execution_count": 35,
   "metadata": {},
   "outputs": [
    {
     "data": {
      "text/plain": [
       "['brooke.sav']"
      ]
     },
     "execution_count": 35,
     "metadata": {},
     "output_type": "execute_result"
    }
   ],
   "source": [
    "# save your model by updating \"your_name\" with your name\n",
    "# and \"your_model\" with your model variable\n",
    "# be sure to turn this in to BCS\n",
    "# if joblib fails to import, try running the command to install in terminal/git-bash\n",
    "import joblib\n",
    "filename = 'brooke.sav'\n",
    "joblib.dump(grid, filename)"
   ]
  },
  {
   "cell_type": "code",
   "execution_count": null,
   "metadata": {},
   "outputs": [],
   "source": []
  }
 ],
 "metadata": {
  "kernel_info": {
   "name": "dev"
  },
  "kernelspec": {
   "display_name": "Python 3",
   "language": "python",
   "name": "python3"
  },
  "language_info": {
   "codemirror_mode": {
    "name": "ipython",
    "version": 3
   },
   "file_extension": ".py",
   "mimetype": "text/x-python",
   "name": "python",
   "nbconvert_exporter": "python",
   "pygments_lexer": "ipython3",
   "version": "3.6.10"
  },
  "nteract": {
   "version": "0.12.3"
  }
 },
 "nbformat": 4,
 "nbformat_minor": 2
}
